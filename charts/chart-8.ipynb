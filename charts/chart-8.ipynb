{
 "cells": [
  {
   "cell_type": "code",
   "execution_count": 1,
   "id": "d83696eb",
   "metadata": {},
   "outputs": [],
   "source": [
    "import pandas as pd\n",
    "import numpy as np\n",
    "import re\n",
    "import matplotlib.pyplot as plt\n",
    "from matplotlib.ticker import StrMethodFormatter,MultipleLocator"
   ]
  },
  {
   "cell_type": "code",
   "execution_count": 2,
   "id": "525508df",
   "metadata": {},
   "outputs": [
    {
     "name": "stdout",
     "output_type": "stream",
     "text": [
      "Added to sys.path: D:\\Joe\\1\\Stufffs\\Research\\Mapping Future Skills in UK Engineering Education\n"
     ]
    }
   ],
   "source": [
    "import sys\n",
    "from pathlib import Path\n",
    "\n",
    "repo_root = Path().resolve().parents[0]\n",
    "sys.path.append(str(repo_root))\n",
    "\n",
    "print(\"Added to sys.path:\", repo_root)\n",
    "\n",
    "from utils.common_functions import save_or_show, load_df\n"
   ]
  },
  {
   "cell_type": "code",
   "execution_count": 3,
   "id": "162b92ae",
   "metadata": {},
   "outputs": [],
   "source": [
    "def _clean_num(s):\n",
    "    # handle \"*\", \"-\", commas, blanks → numeric\n",
    "    return (s.astype(str)\n",
    "              .str.strip()\n",
    "              .replace({\"*\": np.nan, \"-\": 0, \"\": np.nan})\n",
    "              .str.replace(\",\", \"\", regex=False)\n",
    "              .pipe(pd.to_numeric, errors=\"coerce\"))"
   ]
  },
  {
   "cell_type": "code",
   "execution_count": 4,
   "id": "958f58b8",
   "metadata": {},
   "outputs": [],
   "source": [
    "def load_table4_2023_all_regions(path_xlsx: str) -> pd.DataFrame:\n",
    "    \"\"\"\n",
    "    Combine all region sheets for the 2023 workbook.\n",
    "    - Region name from cell A2 on each sheet\n",
    "    - Data range: rows 4–24, columns A,D,G,J,M\n",
    "    - Returns tidy df with columns:\n",
    "      ['Year','Region','Broad Industry Group',\n",
    "       'All_FT_employees','All_PT_employees',\n",
    "       'All_total_employees','All_total_employment']\n",
    "    \"\"\"\n",
    "    xl = pd.ExcelFile(path_xlsx)\n",
    "    frames = []\n",
    "    skip_re = re.compile(r\"(?i)information|contents|cover|readme|about\")\n",
    "\n",
    "    for sh in xl.sheet_names:\n",
    "        if skip_re.search(sh or \"\"):\n",
    "            continue\n",
    "\n",
    "        # --- 1) Get region from A2\n",
    "        reg_df = pd.read_excel(path_xlsx, sheet_name=sh, header=None, nrows=2, usecols=\"A\")\n",
    "        region = str(reg_df.iat[1, 0]).strip() if reg_df.shape[0] >= 2 else sh.strip()\n",
    "\n",
    "        # --- 2) Read the required block: rows 4–24, cols A,D,G,J,M\n",
    "        # rows are 1-indexed in Excel, so skip first 3 rows, then read 21 rows\n",
    "        block = pd.read_excel(\n",
    "            path_xlsx,\n",
    "            sheet_name=sh,\n",
    "            header=None,\n",
    "            usecols=\"A,D,G,J,M\",\n",
    "            skiprows=3,   # skip rows 1–3\n",
    "            nrows=21      # rows 4–24 inclusive\n",
    "        )\n",
    "\n",
    "        block.columns = [\n",
    "            \"Broad Industry Group\",\n",
    "            \"All_FT_employees\",\n",
    "            \"All_PT_employees\",\n",
    "            \"All_total_employees\",\n",
    "            \"All_total_employment\",\n",
    "        ]\n",
    "\n",
    "        # Drop empty rows (sometimes trailing notes bleed in)\n",
    "        block[\"Broad Industry Group\"] = block[\"Broad Industry Group\"].astype(str).str.strip()\n",
    "        block = block[block[\"Broad Industry Group\"].ne(\"\") & block[\"Broad Industry Group\"].ne(\"nan\")].copy()\n",
    "\n",
    "        # Clean numeric columns\n",
    "        for c in [\"All_FT_employees\",\"All_PT_employees\",\"All_total_employees\",\"All_total_employment\"]:\n",
    "            block[c] = _clean_num(block[c])\n",
    "\n",
    "        # Tag region/year\n",
    "        block[\"Region\"] = region\n",
    "        block[\"Year\"] = 2023\n",
    "\n",
    "        frames.append(block)\n",
    "\n",
    "    if not frames:\n",
    "        return pd.DataFrame(columns=[\n",
    "            \"Year\",\"Region\",\"Broad Industry Group\",\n",
    "            \"All_FT_employees\",\"All_PT_employees\",\n",
    "            \"All_total_employees\",\"All_total_employment\"\n",
    "        ])\n",
    "\n",
    "    df = pd.concat(frames, ignore_index=True)\n",
    "\n",
    "    # Optional: remove obvious header echoes if any slipped through\n",
    "    drop_patterns = re.compile(r\"(?i)source:|notes?$|key$|reference year|thousand\")\n",
    "    df = df[~df[\"Broad Industry Group\"].str.contains(drop_patterns, na=False)].copy()\n",
    "\n",
    "    # Order columns nicely\n",
    "    df = df[\n",
    "        [\"Year\",\"Region\",\"Broad Industry Group\",\n",
    "         \"All_FT_employees\",\"All_PT_employees\",\n",
    "         \"All_total_employees\",\"All_total_employment\"]\n",
    "    ]\n",
    "\n",
    "    return df"
   ]
  },
  {
   "cell_type": "code",
   "execution_count": 5,
   "id": "474efaed",
   "metadata": {},
   "outputs": [
    {
     "ename": "ImportError",
     "evalue": "Missing optional dependency 'openpyxl'.  Use pip or conda to install openpyxl.",
     "output_type": "error",
     "traceback": [
      "\u001b[1;31m---------------------------------------------------------------------------\u001b[0m",
      "\u001b[1;31mModuleNotFoundError\u001b[0m                       Traceback (most recent call last)",
      "File \u001b[1;32md:\\Joe\\1\\Stufffs\\Research\\Mapping Future Skills in UK Engineering Education\\.venv\\lib\\site-packages\\pandas\\compat\\_optional.py:135\u001b[0m, in \u001b[0;36mimport_optional_dependency\u001b[1;34m(name, extra, errors, min_version)\u001b[0m\n\u001b[0;32m    134\u001b[0m \u001b[38;5;28;01mtry\u001b[39;00m:\n\u001b[1;32m--> 135\u001b[0m     module \u001b[38;5;241m=\u001b[39m \u001b[43mimportlib\u001b[49m\u001b[38;5;241;43m.\u001b[39;49m\u001b[43mimport_module\u001b[49m\u001b[43m(\u001b[49m\u001b[43mname\u001b[49m\u001b[43m)\u001b[49m\n\u001b[0;32m    136\u001b[0m \u001b[38;5;28;01mexcept\u001b[39;00m \u001b[38;5;167;01mImportError\u001b[39;00m:\n",
      "File \u001b[1;32mC:\\Program Files\\WindowsApps\\PythonSoftwareFoundation.Python.3.10_3.10.3056.0_x64__qbz5n2kfra8p0\\lib\\importlib\\__init__.py:126\u001b[0m, in \u001b[0;36mimport_module\u001b[1;34m(name, package)\u001b[0m\n\u001b[0;32m    125\u001b[0m         level \u001b[38;5;241m+\u001b[39m\u001b[38;5;241m=\u001b[39m \u001b[38;5;241m1\u001b[39m\n\u001b[1;32m--> 126\u001b[0m \u001b[38;5;28;01mreturn\u001b[39;00m \u001b[43m_bootstrap\u001b[49m\u001b[38;5;241;43m.\u001b[39;49m\u001b[43m_gcd_import\u001b[49m\u001b[43m(\u001b[49m\u001b[43mname\u001b[49m\u001b[43m[\u001b[49m\u001b[43mlevel\u001b[49m\u001b[43m:\u001b[49m\u001b[43m]\u001b[49m\u001b[43m,\u001b[49m\u001b[43m \u001b[49m\u001b[43mpackage\u001b[49m\u001b[43m,\u001b[49m\u001b[43m \u001b[49m\u001b[43mlevel\u001b[49m\u001b[43m)\u001b[49m\n",
      "File \u001b[1;32m<frozen importlib._bootstrap>:1050\u001b[0m, in \u001b[0;36m_gcd_import\u001b[1;34m(name, package, level)\u001b[0m\n",
      "File \u001b[1;32m<frozen importlib._bootstrap>:1027\u001b[0m, in \u001b[0;36m_find_and_load\u001b[1;34m(name, import_)\u001b[0m\n",
      "File \u001b[1;32m<frozen importlib._bootstrap>:1004\u001b[0m, in \u001b[0;36m_find_and_load_unlocked\u001b[1;34m(name, import_)\u001b[0m\n",
      "\u001b[1;31mModuleNotFoundError\u001b[0m: No module named 'openpyxl'",
      "\nDuring handling of the above exception, another exception occurred:\n",
      "\u001b[1;31mImportError\u001b[0m                               Traceback (most recent call last)",
      "Cell \u001b[1;32mIn[5], line 3\u001b[0m\n\u001b[0;32m      1\u001b[0m \u001b[38;5;66;03m# path to your 2023 workbook\u001b[39;00m\n\u001b[0;32m      2\u001b[0m path \u001b[38;5;241m=\u001b[39m \u001b[38;5;124m\"\u001b[39m\u001b[38;5;124m../data/ons-table-4/table42023rv2.xlsx\u001b[39m\u001b[38;5;124m\"\u001b[39m   \u001b[38;5;66;03m# <- update if needed\u001b[39;00m\n\u001b[1;32m----> 3\u001b[0m df_2023 \u001b[38;5;241m=\u001b[39m \u001b[43mload_table4_2023_all_regions\u001b[49m\u001b[43m(\u001b[49m\u001b[43mpath\u001b[49m\u001b[43m)\u001b[49m\n\u001b[0;32m      5\u001b[0m \u001b[38;5;66;03m# quick peek\u001b[39;00m\n\u001b[0;32m      6\u001b[0m \u001b[38;5;28mprint\u001b[39m(df_2023\u001b[38;5;241m.\u001b[39mshape)\n",
      "Cell \u001b[1;32mIn[4], line 11\u001b[0m, in \u001b[0;36mload_table4_2023_all_regions\u001b[1;34m(path_xlsx)\u001b[0m\n\u001b[0;32m      1\u001b[0m \u001b[38;5;28;01mdef\u001b[39;00m\u001b[38;5;250m \u001b[39m\u001b[38;5;21mload_table4_2023_all_regions\u001b[39m(path_xlsx: \u001b[38;5;28mstr\u001b[39m) \u001b[38;5;241m-\u001b[39m\u001b[38;5;241m>\u001b[39m pd\u001b[38;5;241m.\u001b[39mDataFrame:\n\u001b[0;32m      2\u001b[0m \u001b[38;5;250m    \u001b[39m\u001b[38;5;124;03m\"\"\"\u001b[39;00m\n\u001b[0;32m      3\u001b[0m \u001b[38;5;124;03m    Combine all region sheets for the 2023 workbook.\u001b[39;00m\n\u001b[0;32m      4\u001b[0m \u001b[38;5;124;03m    - Region name from cell A2 on each sheet\u001b[39;00m\n\u001b[1;32m   (...)\u001b[0m\n\u001b[0;32m      9\u001b[0m \u001b[38;5;124;03m       'All_total_employees','All_total_employment']\u001b[39;00m\n\u001b[0;32m     10\u001b[0m \u001b[38;5;124;03m    \"\"\"\u001b[39;00m\n\u001b[1;32m---> 11\u001b[0m     xl \u001b[38;5;241m=\u001b[39m \u001b[43mpd\u001b[49m\u001b[38;5;241;43m.\u001b[39;49m\u001b[43mExcelFile\u001b[49m\u001b[43m(\u001b[49m\u001b[43mpath_xlsx\u001b[49m\u001b[43m)\u001b[49m\n\u001b[0;32m     12\u001b[0m     frames \u001b[38;5;241m=\u001b[39m []\n\u001b[0;32m     13\u001b[0m     skip_re \u001b[38;5;241m=\u001b[39m re\u001b[38;5;241m.\u001b[39mcompile(\u001b[38;5;124mr\u001b[39m\u001b[38;5;124m\"\u001b[39m\u001b[38;5;124m(?i)information|contents|cover|readme|about\u001b[39m\u001b[38;5;124m\"\u001b[39m)\n",
      "File \u001b[1;32md:\\Joe\\1\\Stufffs\\Research\\Mapping Future Skills in UK Engineering Education\\.venv\\lib\\site-packages\\pandas\\io\\excel\\_base.py:1567\u001b[0m, in \u001b[0;36mExcelFile.__init__\u001b[1;34m(self, path_or_buffer, engine, storage_options, engine_kwargs)\u001b[0m\n\u001b[0;32m   1564\u001b[0m \u001b[38;5;28mself\u001b[39m\u001b[38;5;241m.\u001b[39mengine \u001b[38;5;241m=\u001b[39m engine\n\u001b[0;32m   1565\u001b[0m \u001b[38;5;28mself\u001b[39m\u001b[38;5;241m.\u001b[39mstorage_options \u001b[38;5;241m=\u001b[39m storage_options\n\u001b[1;32m-> 1567\u001b[0m \u001b[38;5;28mself\u001b[39m\u001b[38;5;241m.\u001b[39m_reader \u001b[38;5;241m=\u001b[39m \u001b[38;5;28;43mself\u001b[39;49m\u001b[38;5;241;43m.\u001b[39;49m\u001b[43m_engines\u001b[49m\u001b[43m[\u001b[49m\u001b[43mengine\u001b[49m\u001b[43m]\u001b[49m\u001b[43m(\u001b[49m\n\u001b[0;32m   1568\u001b[0m \u001b[43m    \u001b[49m\u001b[38;5;28;43mself\u001b[39;49m\u001b[38;5;241;43m.\u001b[39;49m\u001b[43m_io\u001b[49m\u001b[43m,\u001b[49m\n\u001b[0;32m   1569\u001b[0m \u001b[43m    \u001b[49m\u001b[43mstorage_options\u001b[49m\u001b[38;5;241;43m=\u001b[39;49m\u001b[43mstorage_options\u001b[49m\u001b[43m,\u001b[49m\n\u001b[0;32m   1570\u001b[0m \u001b[43m    \u001b[49m\u001b[43mengine_kwargs\u001b[49m\u001b[38;5;241;43m=\u001b[39;49m\u001b[43mengine_kwargs\u001b[49m\u001b[43m,\u001b[49m\n\u001b[0;32m   1571\u001b[0m \u001b[43m\u001b[49m\u001b[43m)\u001b[49m\n",
      "File \u001b[1;32md:\\Joe\\1\\Stufffs\\Research\\Mapping Future Skills in UK Engineering Education\\.venv\\lib\\site-packages\\pandas\\io\\excel\\_openpyxl.py:552\u001b[0m, in \u001b[0;36mOpenpyxlReader.__init__\u001b[1;34m(self, filepath_or_buffer, storage_options, engine_kwargs)\u001b[0m\n\u001b[0;32m    534\u001b[0m \u001b[38;5;129m@doc\u001b[39m(storage_options\u001b[38;5;241m=\u001b[39m_shared_docs[\u001b[38;5;124m\"\u001b[39m\u001b[38;5;124mstorage_options\u001b[39m\u001b[38;5;124m\"\u001b[39m])\n\u001b[0;32m    535\u001b[0m \u001b[38;5;28;01mdef\u001b[39;00m\u001b[38;5;250m \u001b[39m\u001b[38;5;21m__init__\u001b[39m(\n\u001b[0;32m    536\u001b[0m     \u001b[38;5;28mself\u001b[39m,\n\u001b[1;32m   (...)\u001b[0m\n\u001b[0;32m    539\u001b[0m     engine_kwargs: \u001b[38;5;28mdict\u001b[39m \u001b[38;5;241m|\u001b[39m \u001b[38;5;28;01mNone\u001b[39;00m \u001b[38;5;241m=\u001b[39m \u001b[38;5;28;01mNone\u001b[39;00m,\n\u001b[0;32m    540\u001b[0m ) \u001b[38;5;241m-\u001b[39m\u001b[38;5;241m>\u001b[39m \u001b[38;5;28;01mNone\u001b[39;00m:\n\u001b[0;32m    541\u001b[0m \u001b[38;5;250m    \u001b[39m\u001b[38;5;124;03m\"\"\"\u001b[39;00m\n\u001b[0;32m    542\u001b[0m \u001b[38;5;124;03m    Reader using openpyxl engine.\u001b[39;00m\n\u001b[0;32m    543\u001b[0m \n\u001b[1;32m   (...)\u001b[0m\n\u001b[0;32m    550\u001b[0m \u001b[38;5;124;03m        Arbitrary keyword arguments passed to excel engine.\u001b[39;00m\n\u001b[0;32m    551\u001b[0m \u001b[38;5;124;03m    \"\"\"\u001b[39;00m\n\u001b[1;32m--> 552\u001b[0m     \u001b[43mimport_optional_dependency\u001b[49m\u001b[43m(\u001b[49m\u001b[38;5;124;43m\"\u001b[39;49m\u001b[38;5;124;43mopenpyxl\u001b[39;49m\u001b[38;5;124;43m\"\u001b[39;49m\u001b[43m)\u001b[49m\n\u001b[0;32m    553\u001b[0m     \u001b[38;5;28msuper\u001b[39m()\u001b[38;5;241m.\u001b[39m\u001b[38;5;21m__init__\u001b[39m(\n\u001b[0;32m    554\u001b[0m         filepath_or_buffer,\n\u001b[0;32m    555\u001b[0m         storage_options\u001b[38;5;241m=\u001b[39mstorage_options,\n\u001b[0;32m    556\u001b[0m         engine_kwargs\u001b[38;5;241m=\u001b[39mengine_kwargs,\n\u001b[0;32m    557\u001b[0m     )\n",
      "File \u001b[1;32md:\\Joe\\1\\Stufffs\\Research\\Mapping Future Skills in UK Engineering Education\\.venv\\lib\\site-packages\\pandas\\compat\\_optional.py:138\u001b[0m, in \u001b[0;36mimport_optional_dependency\u001b[1;34m(name, extra, errors, min_version)\u001b[0m\n\u001b[0;32m    136\u001b[0m \u001b[38;5;28;01mexcept\u001b[39;00m \u001b[38;5;167;01mImportError\u001b[39;00m:\n\u001b[0;32m    137\u001b[0m     \u001b[38;5;28;01mif\u001b[39;00m errors \u001b[38;5;241m==\u001b[39m \u001b[38;5;124m\"\u001b[39m\u001b[38;5;124mraise\u001b[39m\u001b[38;5;124m\"\u001b[39m:\n\u001b[1;32m--> 138\u001b[0m         \u001b[38;5;28;01mraise\u001b[39;00m \u001b[38;5;167;01mImportError\u001b[39;00m(msg)\n\u001b[0;32m    139\u001b[0m     \u001b[38;5;28;01mreturn\u001b[39;00m \u001b[38;5;28;01mNone\u001b[39;00m\n\u001b[0;32m    141\u001b[0m \u001b[38;5;66;03m# Handle submodules: if we have submodule, grab parent module from sys.modules\u001b[39;00m\n",
      "\u001b[1;31mImportError\u001b[0m: Missing optional dependency 'openpyxl'.  Use pip or conda to install openpyxl."
     ]
    }
   ],
   "source": [
    "# path to your 2023 workbook\n",
    "path = \"../data/ons-table-4/table42023rv2.xlsx\"   # <- update if needed\n",
    "df_2023 = load_table4_2023_all_regions(path)\n",
    "\n",
    "# quick peek\n",
    "print(df_2023.shape)\n",
    "print(df_2023.head(10).to_string(index=False))\n"
   ]
  }
 ],
 "metadata": {
  "kernelspec": {
   "display_name": ".venv",
   "language": "python",
   "name": "python3"
  },
  "language_info": {
   "codemirror_mode": {
    "name": "ipython",
    "version": 3
   },
   "file_extension": ".py",
   "mimetype": "text/x-python",
   "name": "python",
   "nbconvert_exporter": "python",
   "pygments_lexer": "ipython3",
   "version": "3.10.11"
  }
 },
 "nbformat": 4,
 "nbformat_minor": 5
}
