{
 "cells": [
  {
   "cell_type": "code",
   "execution_count": 86,
   "id": "d2202d4c",
   "metadata": {},
   "outputs": [],
   "source": [
    "import pandas as pd\n",
    "import numpy as np\n",
    "\n",
    "import seaborn as sns\n",
    "import plotly.express as px\n",
    "import matplotlib.pyplot as plt\n",
    "import matplotlib.ticker as mtick\n",
    "from matplotlib.ticker import MultipleLocator\n",
    "from matplotlib.ticker import FixedLocator, FixedFormatter\n",
    "from textwrap import fill\n",
    "import matplotlib.pyplot as plt\n",
    "from matplotlib.ticker import StrMethodFormatter\n",
    "\n",
    "import glob\n",
    "\n",
    "import os"
   ]
  },
  {
   "cell_type": "code",
   "execution_count": 87,
   "id": "dd1c99b5",
   "metadata": {},
   "outputs": [
    {
     "name": "stdout",
     "output_type": "stream",
     "text": [
      "Added to sys.path: D:\\Joe\\1\\Stufffs\\Research\\Mapping Future Skills in UK Engineering Education\n"
     ]
    }
   ],
   "source": [
    "import sys\n",
    "from pathlib import Path\n",
    "\n",
    "repo_root = Path().resolve().parents[0]\n",
    "sys.path.append(str(repo_root))\n",
    "\n",
    "print(\"Added to sys.path:\", repo_root)\n",
    "\n",
    "from utils.common_functions import save_or_show, load_df\n"
   ]
  },
  {
   "cell_type": "markdown",
   "id": "f0a1ca11",
   "metadata": {},
   "source": [
    "# Deployment"
   ]
  },
  {
   "cell_type": "code",
   "execution_count": 88,
   "id": "eeca0d04",
   "metadata": {},
   "outputs": [],
   "source": [
    "path = r\"../data/table-28-graduates\"\n",
    "df = load_df(path, skip_rows=13)"
   ]
  },
  {
   "cell_type": "code",
   "execution_count": 89,
   "id": "189141a6",
   "metadata": {},
   "outputs": [],
   "source": [
    "def publication_rc():\n",
    "    plt.rcParams.update({\n",
    "        \"figure.figsize\": (12, 6),\n",
    "        \"axes.titlesize\": 14,\n",
    "        \"axes.labelsize\": 12,\n",
    "        \"xtick.labelsize\": 10,\n",
    "        \"ytick.labelsize\": 10,\n",
    "        \"legend.fontsize\": 10,\n",
    "        \"lines.linewidth\": 1.0,\n",
    "        \"axes.titleweight\": \"bold\",\n",
    "        \"axes.labelweight\": \"bold\",\n",
    "        \"legend.frameon\": False,\n",
    "        \"font.family\": \"DejaVu Sans\",\n",
    "    })"
   ]
  },
  {
   "cell_type": "code",
   "execution_count": 90,
   "id": "427b2876",
   "metadata": {},
   "outputs": [],
   "source": [
    "\n",
    "def keep_totals_slice(df, filters):\n",
    "    \"\"\"\n",
    "    Filters a DataFrame by multiple equality conditions passed as keyword args.\n",
    "    Example:\n",
    "        keep_totals_slice(df,\n",
    "            {\n",
    "                \"CAH level marker\": \"CAH level 3\",\n",
    "                \"Level of study\": \"All\",\n",
    "                \"Mode of study\": \"All\",\n",
    "                \"Category marker\": \"Sex\",\n",
    "                \"Category\": \"Female\"\n",
    "            }\n",
    "        )\n",
    "    \"\"\"\n",
    "    mask = pd.Series(True, index=df.index)\n",
    "    for col, value in filters.items():\n",
    "        mask &= df[col].eq(value)\n",
    "    return df.loc[mask].copy()\n"
   ]
  },
  {
   "cell_type": "code",
   "execution_count": 91,
   "id": "43cdda65",
   "metadata": {},
   "outputs": [
    {
     "name": "stdout",
     "output_type": "stream",
     "text": [
      "(20137, 9)\n",
      "(15490, 9)\n"
     ]
    }
   ],
   "source": [
    "slice = { \n",
    "    \"Subject area of degree\": \"10 Engineering and technology\",\n",
    "    \"Level of qualification obtained\": \"All\",\n",
    "    \"Mode of former study\": \"All\",\n",
    "    \"Interim study\": \"Include significant interim study\",\n",
    "}\n",
    "df_keep = keep_totals_slice(df, slice)\n",
    "print(df_keep.shape)\n",
    "\n",
    "df_grad = df_keep[~df_keep[\"Activity\"].isin([\"Total with known outcomes\", \"Non-respondents\", \"Total\"])].copy()\n",
    "df_grad.sample(20)\n",
    "print(df_grad.shape)"
   ]
  },
  {
   "cell_type": "code",
   "execution_count": 92,
   "id": "2cf06fd4",
   "metadata": {},
   "outputs": [
    {
     "data": {
      "text/html": [
       "<div>\n",
       "<style scoped>\n",
       "    .dataframe tbody tr th:only-of-type {\n",
       "        vertical-align: middle;\n",
       "    }\n",
       "\n",
       "    .dataframe tbody tr th {\n",
       "        vertical-align: top;\n",
       "    }\n",
       "\n",
       "    .dataframe thead th {\n",
       "        text-align: right;\n",
       "    }\n",
       "</style>\n",
       "<table border=\"1\" class=\"dataframe\">\n",
       "  <thead>\n",
       "    <tr style=\"text-align: right;\">\n",
       "      <th></th>\n",
       "      <th>UKPRN</th>\n",
       "      <th>Provider name</th>\n",
       "      <th>Subject area of degree</th>\n",
       "      <th>Activity</th>\n",
       "      <th>Interim study</th>\n",
       "      <th>Level of qualification obtained</th>\n",
       "      <th>Mode of former study</th>\n",
       "      <th>Academic year</th>\n",
       "      <th>Number</th>\n",
       "    </tr>\n",
       "  </thead>\n",
       "  <tbody>\n",
       "  </tbody>\n",
       "</table>\n",
       "</div>"
      ],
      "text/plain": [
       "Empty DataFrame\n",
       "Columns: [UKPRN, Provider name, Subject area of degree, Activity, Interim study, Level of qualification obtained, Mode of former study, Academic year, Number]\n",
       "Index: []"
      ]
     },
     "execution_count": 92,
     "metadata": {},
     "output_type": "execute_result"
    }
   ],
   "source": [
    "duplicates = df_grad[df_grad.duplicated(keep=False)]\n",
    "duplicates.head(30)"
   ]
  },
  {
   "cell_type": "code",
   "execution_count": 93,
   "id": "ddab8716",
   "metadata": {},
   "outputs": [],
   "source": [
    "d = df_grad.copy()"
   ]
  },
  {
   "cell_type": "code",
   "execution_count": 94,
   "id": "8dc2dd46",
   "metadata": {},
   "outputs": [
    {
     "name": "stdout",
     "output_type": "stream",
     "text": [
      "[QA] Dropped duplicate rows on (UKPRN, Academic year, Activity): 60\n"
     ]
    }
   ],
   "source": [
    "before = len(d)\n",
    "d = d.drop_duplicates(subset=[\"UKPRN\", \"Academic year\", \"Activity\"])\n",
    "after = len(d)\n",
    "print(f\"[QA] Dropped duplicate rows on (UKPRN, Academic year, Activity): {before - after}\")\n"
   ]
  },
  {
   "cell_type": "code",
   "execution_count": 95,
   "id": "fb774fe2",
   "metadata": {},
   "outputs": [],
   "source": [
    "df_grad = d.copy()"
   ]
  },
  {
   "cell_type": "code",
   "execution_count": 96,
   "id": "f2461020",
   "metadata": {},
   "outputs": [],
   "source": [
    "def normalize_year_order(df, year_col=\"Academic year\"):\n",
    "    # Put academic years in chronological order (e.g., \"2017/18\" -> 2017 key)\n",
    "    key = df[year_col].astype(str).str.slice(0, 4).astype(int)\n",
    "    return df.assign(_yearkey=key).sort_values([\"_yearkey\", year_col]).drop(columns=\"_yearkey\")\n"
   ]
  },
  {
   "cell_type": "code",
   "execution_count": 97,
   "id": "30fdedd5",
   "metadata": {},
   "outputs": [],
   "source": [
    "cat_map = {\n",
    "    \"Full-time employment\":                                   \"In work\",\n",
    "    \"Part-time employment\":                                   \"In work\",\n",
    "\n",
    "    \"Employment and further study\":                           \"In work & study\",  # NBSP-normalised (see mapper)\n",
    "\n",
    "    \"Full-time further study\":                                \"Further study\",\n",
    "    \"Part-time further study\":                                \"Further study\",\n",
    "\n",
    "    \"Unemployed\":                                             \"Unemployed\",\n",
    "\n",
    "    \"Voluntary or unpaid work\":                               \"Other\",\n",
    "    \"Other including travel, caring for someone or retired\":  \"Other\",\n",
    "    \"Unknown pattern of employment\":                          \"Other\",\n",
    "    \"Unknown pattern of further study\":                       \"Other\",\n",
    "}\n"
   ]
  },
  {
   "cell_type": "code",
   "execution_count": 98,
   "id": "416fa631",
   "metadata": {},
   "outputs": [],
   "source": [
    "def to_bucket(activity: str) -> str:\n",
    "    a = (str(activity).replace(\"\\xa0\", \" \").strip())\n",
    "    return cat_map.get(a, \"Other\")  # fallback if anything unexpected appears\n"
   ]
  },
  {
   "cell_type": "code",
   "execution_count": 99,
   "id": "d6d6a4a1",
   "metadata": {},
   "outputs": [],
   "source": [
    "df = df_grad.copy()\n",
    "df[\"Dest\"] = df[\"Activity\"].map(to_bucket)\n",
    "\n",
    "# 2) Aggregate counts by year x destination\n",
    "by_dest_counts = (df.groupby([\"Academic year\", \"Dest\"], as_index=False)[\"Number\"]\n",
    "                    .sum())\n",
    "by_dest_counts = normalize_year_order(by_dest_counts, \"Academic year\")\n",
    "\n",
    "# Totals per year (for employment rate)\n",
    "year_tot = (by_dest_counts.groupby(\"Academic year\", as_index=False)[\"Number\"]\n",
    "                        .sum()\n",
    "                        .rename(columns={\"Number\": \"YearTotal\"}))\n",
    "\n",
    "# Employment rate = (In work + In work & study) / total\n",
    "emp = (by_dest_counts[by_dest_counts[\"Dest\"].isin([\"In work\",\"In work & study\"])]\n",
    "          .groupby(\"Academic year\", as_index=False)[\"Number\"].sum()\n",
    "          .merge(year_tot, on=\"Academic year\", how=\"left\"))\n",
    "emp[\"Employment rate (%)\"] = 100 * emp[\"Number\"] / emp[\"YearTotal\"]\n",
    "emp = normalize_year_order(emp, \"Academic year\")"
   ]
  },
  {
   "cell_type": "code",
   "execution_count": 100,
   "id": "f4c75d02",
   "metadata": {},
   "outputs": [],
   "source": [
    "def plot_outcomes_stacked_counts(by_dest_counts, title, out_basename, chart_dir=\"chart-5\"):\n",
    "\n",
    "    publication_rc()\n",
    "    # Pivot to counts\n",
    "    pvt = (by_dest_counts.pivot_table(index=\"Academic year\",\n",
    "                                      columns=\"Dest\",\n",
    "                                      values=\"Number\",\n",
    "                                      aggfunc=\"sum\")\n",
    "                        .fillna(0))\n",
    "\n",
    "    # Column order\n",
    "    order = [\"In work\", \"In work & study\", \"Further study\", \"Unemployed\", \"Other\"]\n",
    "    cols = [c for c in order if c in pvt.columns] + [c for c in pvt.columns if c not in order]\n",
    "    pvt = pvt[cols]\n",
    "\n",
    "    # Chronological x-order\n",
    "    pvt = pvt.iloc[pvt.index.str.slice(0, 4).astype(int).argsort()]\n",
    "\n",
    "    # Plot\n",
    "    fig, ax = plt.subplots(figsize=(12, 6))\n",
    "    bottom = np.zeros(len(pvt))\n",
    "    \n",
    "    colors = {\n",
    "    \"In work\":           \"#1B9E77\",\n",
    "    \"In work & study\":   \"#66A61E\",\n",
    "    \"Further study\":     \"#7570B3\",\n",
    "    \"Unemployed\":        \"#D95F02\",\n",
    "    \"Other\":             \"#666666\",\n",
    "    }\n",
    "    \n",
    "    ax.yaxis.set_major_locator(MultipleLocator(5000))\n",
    "    ax.yaxis.set_minor_locator(MultipleLocator(1000))\n",
    "    ax.grid(True, which=\"major\", axis=\"y\", linestyle=\"--\", alpha=0.8)\n",
    "    ax.grid(True, which=\"minor\", axis=\"y\", linestyle=\":\",  alpha=0.2)\n",
    "\n",
    "    for col in pvt.columns:\n",
    "        ax.bar(pvt.index, pvt[col].values, bottom=bottom,\n",
    "               label=col, color=colors.get(col, None))\n",
    "        bottom += pvt[col].values\n",
    "\n",
    "    ax.set_ylabel(\"Number of respondents\", fontweight=\"bold\")\n",
    "    ax.set_xlabel(\"Academic year\")\n",
    "    ax.set_title(title, fontweight=\"bold\", pad=12)\n",
    "    ax.yaxis.set_major_formatter(StrMethodFormatter(\"{x:,.0f}\"))\n",
    "    ax.grid(True, axis=\"y\", linestyle=\"--\", alpha=0.4)\n",
    "    # ax.tick_params(axis=\"x\", labelrotation=30)\n",
    "    ax.legend(title=\"Destination\", bbox_to_anchor=(1.02, 1), loc=\"upper left\", frameon=False)\n",
    "\n",
    "    plt.tight_layout()\n",
    "    save_or_show(fig, out_dir=chart_dir, filename=out_basename, show=True)\n"
   ]
  },
  {
   "cell_type": "code",
   "execution_count": 101,
   "id": "d470c198",
   "metadata": {},
   "outputs": [
    {
     "data": {
      "image/png": "[encoded data removed]",
      "text/plain": [
       "<Figure size 1200x600 with 1 Axes>"
      ]
     },
     "metadata": {},
     "output_type": "display_data"
    }
   ],
   "source": [
    "plot_outcomes_stacked_counts(\n",
    "    by_dest_counts,\n",
    "    title=\"Engineering Graduate Employment Outcomes (2018–2024)\",\n",
    "    out_basename=\"eng_outcomes_stacked_counts\"\n",
    ")\n"
   ]
  },
  {
   "cell_type": "code",
   "execution_count": 102,
   "id": "7f09dbe9",
   "metadata": {},
   "outputs": [
    {
     "name": "stdout",
     "output_type": "stream",
     "text": [
      "Academic year\n",
      "2017/18    27355\n",
      "2018/19    28485\n",
      "2019/20    28435\n",
      "2020/21    25630\n",
      "2021/22    25035\n",
      "2022/23    22720\n"
     ]
    }
   ],
   "source": [
    "print(df_grad.groupby(\"Academic year\")[\"Number\"].sum()\n",
    "      .sort_index(key=lambda s: s.astype(str).str[:4].astype(int))\n",
    "      .to_string())\n"
   ]
  }
 ],
 "metadata": {
  "kernelspec": {
   "display_name": ".venv",
   "language": "python",
   "name": "python3"
  },
  "language_info": {
   "codemirror_mode": {
    "name": "ipython",
    "version": 3
   },
   "file_extension": ".py",
   "mimetype": "text/x-python",
   "name": "python",
   "nbconvert_exporter": "python",
   "pygments_lexer": "ipython3",
   "version": "3.10.11"
  }
 },
 "nbformat": 4,
 "nbformat_minor": 5
}
